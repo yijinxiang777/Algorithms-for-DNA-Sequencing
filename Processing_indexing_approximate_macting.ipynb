{
 "cells": [
  {
   "cell_type": "code",
   "execution_count": 101,
   "metadata": {},
   "outputs": [],
   "source": [
    "#set working directory \n",
    "import os\n",
    "os.chdir('/Users/xiangyijin/Desktop/genetics/')\n",
    "#Read in the file\n",
    "def readGenome(filename):\n",
    "    output = ''\n",
    "    with open(filename,'r') as f: #'r'represents read only while 'w' represents write \n",
    "        for line in f:\n",
    "            if line[0] != '>':\n",
    "                output += line.rstrip()\n",
    "    return output\n",
    "genome = readGenome('lambda_virus.fa')"
   ]
  },
  {
   "cell_type": "code",
   "execution_count": 102,
   "metadata": {},
   "outputs": [
    {
     "data": {
      "text/plain": [
       "306"
      ]
     },
     "execution_count": 102,
     "metadata": {},
     "output_type": "execute_result"
    }
   ],
   "source": [
    "#Question 1: Caculate how many times does ADDT or ACCT occurs\n",
    "def AGGTcount(filename):\n",
    "    n = 0\n",
    "    for i in range(len(filename)-3):\n",
    "        if filename[i:i+4] == 'AGGT' or filename[i:i+4] == 'ACCT':\n",
    "            n += 1\n",
    "    return n\n",
    "AGGTcount(genome)"
   ]
  },
  {
   "cell_type": "code",
   "execution_count": 61,
   "metadata": {},
   "outputs": [
    {
     "data": {
      "text/plain": [
       "195"
      ]
     },
     "execution_count": 61,
     "metadata": {},
     "output_type": "execute_result"
    }
   ],
   "source": [
    "#Question 2: Caculate how many times does TTAA occurs\n",
    "def TTAAcount(filename):\n",
    "    n = 0\n",
    "    for i in range(len(filename)-3):\n",
    "        if filename[i:i+4] == 'TTAA':\n",
    "            n += 1\n",
    "    return n\n",
    "TTAAcount(genome)"
   ]
  },
  {
   "cell_type": "code",
   "execution_count": 103,
   "metadata": {},
   "outputs": [
    {
     "data": {
      "text/plain": [
       "26028"
      ]
     },
     "execution_count": 103,
     "metadata": {},
     "output_type": "execute_result"
    }
   ],
   "source": [
    "#Question 3: offset of the leftmost occurrence of ACTAAGT or its reverse complement\n",
    "def ACTAAGToffset(filename):\n",
    "    m = 1000000\n",
    "    n = 1000000\n",
    "    for i in range(len(filename)-6):\n",
    "        if filename[i:i+7] == 'ACTAAGT':\n",
    "            m = i\n",
    "            break\n",
    "        if filename[i:i+7] == 'ACTTAGT':\n",
    "            n = i\n",
    "            break\n",
    "    return min(m,n)\n",
    "        \n",
    "ACTAAGToffset(genome) "
   ]
  },
  {
   "cell_type": "code",
   "execution_count": 104,
   "metadata": {},
   "outputs": [
    {
     "data": {
      "text/plain": [
       "450"
      ]
     },
     "execution_count": 104,
     "metadata": {},
     "output_type": "execute_result"
    }
   ],
   "source": [
    "#Question 4: offset of the leftmost occurrence of AGTCGA or its reverse complement\n",
    "def AGTCGAoffset(filename):\n",
    "    m = 1000000\n",
    "    n = 1000000\n",
    "    for i in range(len(filename)-5):\n",
    "        if filename[i:i+6] == 'AGTCGA':\n",
    "            m = i\n",
    "            break\n",
    "        if filename[i:i+6] == 'TCGACT':\n",
    "            n = i\n",
    "            break\n",
    "    return min(m,n)\n",
    "        \n",
    "AGTCGAoffset(genome) "
   ]
  },
  {
   "cell_type": "code",
   "execution_count": 105,
   "metadata": {},
   "outputs": [],
   "source": [
    "#Question 5: count match with up to 2 mismatches\n",
    "def naive_2mm(p,t):\n",
    "    match = []\n",
    "    for i in range(len(t)-len(p)+1):\n",
    "        nummismatch = 0\n",
    "        for j in range(len(p)):\n",
    "            if t[i+j] != p[j]:\n",
    "                nummismatch += 1\n",
    "        if nummismatch < 3:\n",
    "            match.append(i)\n",
    "    return match"
   ]
  },
  {
   "cell_type": "code",
   "execution_count": 55,
   "metadata": {},
   "outputs": [
    {
     "name": "stdout",
     "output_type": "stream",
     "text": [
      "[10, 24, 38]\n"
     ]
    }
   ],
   "source": [
    "#test 1 \n",
    "p = 'CTGT'\n",
    "ten_as = 'AAAAAAAAAA'\n",
    "t = ten_as + 'CTGT' + ten_as + 'CTTT' + ten_as + 'CGGG' + ten_as\n",
    "occurrences = naive_2mm(p, t)\n",
    "print(occurrences)"
   ]
  },
  {
   "cell_type": "code",
   "execution_count": 56,
   "metadata": {},
   "outputs": [],
   "source": [
    "#test 2\n",
    "def readGenome(filename):\n",
    "    genome = ''\n",
    "    with open(filename, 'r') as f:\n",
    "        for line in f:\n",
    "            # ignore header line with genome information\n",
    "            if not line[0] == '>':\n",
    "                genome += line.rstrip()\n",
    "    return genome\n",
    "phix_genome = readGenome('phix.fa')\n",
    "occurrences = naive_2mm('GATTACA', phix_genome)"
   ]
  },
  {
   "cell_type": "code",
   "execution_count": 57,
   "metadata": {},
   "outputs": [
    {
     "name": "stdout",
     "output_type": "stream",
     "text": [
      "offset of leftmost occurrence: 10\n"
     ]
    }
   ],
   "source": [
    "print('offset of leftmost occurrence: %d' % min(occurrences))"
   ]
  },
  {
   "cell_type": "code",
   "execution_count": 58,
   "metadata": {},
   "outputs": [
    {
     "name": "stdout",
     "output_type": "stream",
     "text": [
      "# occurrences: 79\n"
     ]
    }
   ],
   "source": [
    "print('# occurrences: %d' % len(occurrences))"
   ]
  },
  {
   "cell_type": "code",
   "execution_count": 106,
   "metadata": {},
   "outputs": [
    {
     "data": {
      "text/plain": [
       "191"
      ]
     },
     "execution_count": 106,
     "metadata": {},
     "output_type": "execute_result"
    }
   ],
   "source": [
    "# Apply naive_2mm to TTCAAGCC\n",
    "occurrences = naive_2mm ('TTCAAGCC',genome)\n",
    "len(occurrences)"
   ]
  },
  {
   "cell_type": "code",
   "execution_count": 110,
   "metadata": {},
   "outputs": [
    {
     "data": {
      "text/plain": [
       "49"
      ]
     },
     "execution_count": 110,
     "metadata": {},
     "output_type": "execute_result"
    }
   ],
   "source": [
    "#Question 6: calculate leftmost occurrence of AGGAGGTT match with up to 2 mismatches\n",
    "def naive_2mm(p,t):\n",
    "    match = []\n",
    "    for i in range(len(t)-len(p)+1):\n",
    "        nummismatch = 0\n",
    "        for j in range(len(p)):\n",
    "            if t[i+j] != p[j]:\n",
    "                nummismatch += 1\n",
    "        if nummismatch < 3:\n",
    "            break\n",
    "    return i \n",
    "leftmost = naive_2mm('AGGAGGTT',genome)\n",
    "leftmost"
   ]
  },
  {
   "cell_type": "code",
   "execution_count": 112,
   "metadata": {},
   "outputs": [
    {
     "data": {
      "text/plain": [
       "['HHHHHHHHHHHHHHHHHHHHHHHHHHHHHHHHHHHHHHHHHHHGFHHHFHFFHHHHHGHHFHEH@4#55554455HGFBF<@C>7EEF@FBEDDD<=C<E',\n",
       " 'HHHHHHHHHHHHHHHHHHHHHHHHHHHHHHHHHHHHHHHHHHHHHHHHHHHHHHHHCHHHHEHHBA#C>@54455C/7=CGHEGEB;C############',\n",
       " 'HHHHHHHHHHHHHHHHHHHHHHHHHHHHHHGHHHHHHHHHHHHHDHHHDEHHHHFGIHEHEGGGF4#45655366GIGEHAGBG################']"
      ]
     },
     "execution_count": 112,
     "metadata": {},
     "output_type": "execute_result"
    }
   ],
   "source": [
    "# Question 7\n",
    "def readFastq(filename):\n",
    "    sequence = []\n",
    "    quality = []\n",
    "    with open(filename) as fh:\n",
    "        while True:\n",
    "            fh.readline() #skip the frist line for the description\n",
    "            seq = fh.readline().rstrip() #store the sequence information of the second line, and rstrip here is used to remove the '/n'at the end of each strands\n",
    "            fh.readline() #skip the third line for the + line\n",
    "            qual = fh.readline().rstrip() #srore the quality information of the fourth line\n",
    "            if len(seq) == 0:\n",
    "                break\n",
    "            sequence.append(seq)\n",
    "            quality.append(qual)\n",
    "    return sequence,quality\n",
    "seqs, quals = readFastq('ERR037900_1.first1000.fastq')\n",
    "\n",
    "quals[:3]"
   ]
  },
  {
   "cell_type": "code",
   "execution_count": 100,
   "metadata": {},
   "outputs": [
    {
     "name": "stdout",
     "output_type": "stream",
     "text": [
      "[38435, 38460, 38400, 38428, 38417, 38382, 38362, 38364, 38325, 38343, 38194, 38154, 38089, 38152, 38153, 38099, 38055, 38041, 38067, 38150, 38087, 37989, 38009, 37909, 38028, 37576, 37514, 37503, 37578, 37552, 37629, 37555, 37548, 37433, 37402, 37343, 37198, 37126, 37158, 36904, 36742, 36677, 36645, 36493, 36509, 36375, 36205, 35974, 35847, 35673, 34832, 34739, 34399, 34402, 34025, 33025, 32882, 32741, 32573, 32224, 30805, 30666, 30343, 30131, 29463, 17891, 4526, 17881, 17865, 17852, 17466, 17131, 17134, 17098, 16852, 23745, 23958, 23221, 22902, 22366, 20904, 20584, 20383, 19767, 19095, 18061, 17757, 17152, 16972, 16286, 14811, 14679, 14310, 14152, 13734, 12538, 12278, 12179, 11676, 11561]\n",
      "66\n"
     ]
    },
    {
     "data": {
      "text/plain": [
       "4526"
      ]
     },
     "execution_count": 100,
     "metadata": {},
     "output_type": "execute_result"
    }
   ],
   "source": [
    "# create a function to find a problem\n",
    "def qualitychange(qual):\n",
    "    return ord(qual)-33\n",
    "\n",
    "def probelmdig(qualitySrtings):\n",
    "    numquality = [0] * 100\n",
    "    for qual in qualitySrtings:\n",
    "        for j in range(len(qual)):\n",
    "            q = qualitychange(qual[j])\n",
    "            numquality[j] += q #add the quality value\n",
    "    return numquality\n",
    "h = probelmdig(quals)\n",
    "print(h) \n",
    "\n",
    "# function to find minimum position in list \n",
    "def minimum(a, n): \n",
    "    # inbuilt function to find the position of minimum  \n",
    "    minpos = a.index(min(a)) \n",
    "    print(minpos)\n",
    "minimum(h, len(h)) \n",
    "h[66]"
   ]
  },
  {
   "cell_type": "code",
   "execution_count": 99,
   "metadata": {},
   "outputs": [
    {
     "name": "stdout",
     "output_type": "stream",
     "text": [
      "0\n"
     ]
    }
   ],
   "source": [
    "# function to find minimum and maximum position in list \n",
    "def minimum(a, n): \n",
    "    # inbuilt function to find the position of minimum  \n",
    "    minpos = a.index(min(a)) \n",
    "    print(minpos)\n",
    "a = [1,2,3,4]\n",
    "minimum(a, len(a)) "
   ]
  },
  {
   "cell_type": "code",
   "execution_count": 140,
   "metadata": {},
   "outputs": [],
   "source": [
    "# Create a new list with all quality value as numbers\n",
    "def qualitychange(qual):\n",
    "    return ord(qual)-33\n",
    "numqual = [[0]*100]*1000\n",
    "for i in range(len(quals)):\n",
    "    for j in range(len(quals[i])):\n",
    "        numqual[i][j] = qualitychange(quals[i][j]) "
   ]
  },
  {
   "cell_type": "code",
   "execution_count": null,
   "metadata": {},
   "outputs": [],
   "source": []
  },
  {
   "cell_type": "code",
   "execution_count": null,
   "metadata": {},
   "outputs": [],
   "source": []
  }
 ],
 "metadata": {
  "kernelspec": {
   "display_name": "Python 3",
   "language": "python",
   "name": "python3"
  },
  "language_info": {
   "codemirror_mode": {
    "name": "ipython",
    "version": 3
   },
   "file_extension": ".py",
   "mimetype": "text/x-python",
   "name": "python",
   "nbconvert_exporter": "python",
   "pygments_lexer": "ipython3",
   "version": "3.7.6"
  }
 },
 "nbformat": 4,
 "nbformat_minor": 4
}
